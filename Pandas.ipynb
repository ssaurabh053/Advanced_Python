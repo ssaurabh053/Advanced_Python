{
 "cells": [
  {
   "cell_type": "markdown",
   "id": "736d37e1",
   "metadata": {},
   "source": [
    "## 1. Explain three-dimensional data indexing."
   ]
  },
  {
   "cell_type": "code",
   "execution_count": 1,
   "id": "eaa04219",
   "metadata": {},
   "outputs": [],
   "source": [
    "import numpy as np"
   ]
  },
  {
   "cell_type": "markdown",
   "id": "6bf09590",
   "metadata": {},
   "source": [
    "<p>Consider below three dimentional array:</p>"
   ]
  },
  {
   "cell_type": "code",
   "execution_count": 11,
   "id": "2b3e0137",
   "metadata": {},
   "outputs": [],
   "source": [
    "a=np.array([[[0, 1],\n",
    "           [2, 3]], ##-->sheet 0\n",
    "           [[4, 5],\n",
    "           [6, 7]]])##-->sheet 1"
   ]
  },
  {
   "cell_type": "markdown",
   "id": "b8e31ea6",
   "metadata": {},
   "source": [
    "<p>then a[0][1][1]=3</p>\n",
    "<p>Here we can consider first index as the '2x2' sheet which we want to access,then 2nd index as which row we want and finally 3rd index as which column we want to access</p>"
   ]
  },
  {
   "cell_type": "markdown",
   "id": "7745963f",
   "metadata": {},
   "source": [
    "## 2. What's the difference between a series and a dataframe?"
   ]
  },
  {
   "cell_type": "markdown",
   "id": "ec0254b3",
   "metadata": {},
   "source": [
    "<p>Pandas Series is One-dimensional while Pandas DataFrame is Two-dimensional</p>\n",
    "<p>Series elements must be of the same data type i.e Homogenous.DataFrame elements can have different data types i.e Heterogenous.</p>\n",
    "<p>Once created, the size of a Series object cannot be changed.Elements can be dropped or added in an existing DataFrame.</p>"
   ]
  },
  {
   "cell_type": "markdown",
   "id": "2d9e5f63",
   "metadata": {},
   "source": [
    "## 3. What role does pandas play in data cleaning?"
   ]
  },
  {
   "cell_type": "markdown",
   "id": "07832835",
   "metadata": {},
   "source": [
    "<p>It provides a rich set of functions to process various types of file formats from multiple data sources.\n",
    "Pandas library makes it easier in reading data from different file formats and storing them.for example read_sql,read_json,read_csv,to_csv,to_json.\n",
    "<p>It provides various graphs for visualization and functions to identify the null values and replace them with required values</p>\n",
    "<p>Pandas.apply allow the users to pass a function and apply it on every single value of the Pandas series.</p>"
   ]
  },
  {
   "cell_type": "markdown",
   "id": "019ff040",
   "metadata": {},
   "source": [
    "## 4. How do you use pandas to make a data frame out of n-dimensional arrays?"
   ]
  },
  {
   "cell_type": "markdown",
   "id": "c0d7cd04",
   "metadata": {},
   "source": [
    "We pass the numpy array as a data input to pd.DataFrame() along with index and column names to convert it into DataFrame"
   ]
  },
  {
   "cell_type": "code",
   "execution_count": 13,
   "id": "65baec7d",
   "metadata": {},
   "outputs": [],
   "source": [
    "a=[[1,2],[3,4]]"
   ]
  },
  {
   "cell_type": "code",
   "execution_count": 14,
   "id": "e973154b",
   "metadata": {},
   "outputs": [],
   "source": [
    "import pandas as pd"
   ]
  },
  {
   "cell_type": "code",
   "execution_count": 16,
   "id": "6285b789",
   "metadata": {},
   "outputs": [
    {
     "data": {
      "text/html": [
       "<div>\n",
       "<style scoped>\n",
       "    .dataframe tbody tr th:only-of-type {\n",
       "        vertical-align: middle;\n",
       "    }\n",
       "\n",
       "    .dataframe tbody tr th {\n",
       "        vertical-align: top;\n",
       "    }\n",
       "\n",
       "    .dataframe thead th {\n",
       "        text-align: right;\n",
       "    }\n",
       "</style>\n",
       "<table border=\"1\" class=\"dataframe\">\n",
       "  <thead>\n",
       "    <tr style=\"text-align: right;\">\n",
       "      <th></th>\n",
       "      <th>0</th>\n",
       "      <th>1</th>\n",
       "    </tr>\n",
       "  </thead>\n",
       "  <tbody>\n",
       "    <tr>\n",
       "      <th>a</th>\n",
       "      <td>1</td>\n",
       "      <td>2</td>\n",
       "    </tr>\n",
       "    <tr>\n",
       "      <th>b</th>\n",
       "      <td>3</td>\n",
       "      <td>4</td>\n",
       "    </tr>\n",
       "  </tbody>\n",
       "</table>\n",
       "</div>"
      ],
      "text/plain": [
       "   0  1\n",
       "a  1  2\n",
       "b  3  4"
      ]
     },
     "execution_count": 16,
     "metadata": {},
     "output_type": "execute_result"
    }
   ],
   "source": [
    "pd.DataFrame(a,index=['a','b'],columns=[0,1])"
   ]
  },
  {
   "cell_type": "markdown",
   "id": "2a676f29",
   "metadata": {},
   "source": [
    "## 5. Explain the notion of pandas plotting."
   ]
  },
  {
   "cell_type": "markdown",
   "id": "f019e8d9",
   "metadata": {},
   "source": [
    "<p>Pandas objects come equipped with their plotting functions. These plotting functions are essentially wrappers around the matplotlib library. We can consider matplotlib as a backend for pandas plots.</p>\n",
    "\n",
    "<p>The Pandas Plot is a set of methods that can be used with a Pandas DataFrame, or a series, to plot various graphs from the data in that DataFrame. Pandas Plot simplifies the creation of graphs and plots, so you don’t need to know the details of working with matplotlib.</p>\n",
    "\n",
    "<p>Built-in visualization in pandas really shines in helping with fast and easy plotting of series and DataFrames.</p>"
   ]
  }
 ],
 "metadata": {
  "kernelspec": {
   "display_name": "Python 3 (ipykernel)",
   "language": "python",
   "name": "python3"
  },
  "language_info": {
   "codemirror_mode": {
    "name": "ipython",
    "version": 3
   },
   "file_extension": ".py",
   "mimetype": "text/x-python",
   "name": "python",
   "nbconvert_exporter": "python",
   "pygments_lexer": "ipython3",
   "version": "3.9.12"
  }
 },
 "nbformat": 4,
 "nbformat_minor": 5
}
