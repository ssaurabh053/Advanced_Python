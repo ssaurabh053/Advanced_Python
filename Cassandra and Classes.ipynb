{
 "cells": [
  {
   "cell_type": "markdown",
   "id": "907ad6ac",
   "metadata": {},
   "source": [
    "## 1. Explain the differences between Cassandra and typical databases."
   ]
  },
  {
   "cell_type": "markdown",
   "id": "6d4267c3",
   "metadata": {},
   "source": [
    "<p>1. Cassandra is a high performance and highly scalable distributed NoSQL database management system while RDBMS is a Database management system or software which is designed for relational databases.<p/>\n",
    "<p>2.\tCassandra is a NoSQL database while RDBMS uses SQL for querying and maintaining the database.<p/>\n",
    "<p>3.\tIt deals with unstructured data while RDBMS deals with structured data.<p/>\n",
    "<p>4.\tIt has a flexible schema while RDBMS has fixed schema.<p/>\n",
    "<p>5.\tCassandra has peer-to-peer architecture with no single point of failure.RDBMS has master-slave core architecture means a single point of failure.<p/>\n",
    "<p>6.\tCassandra handles high volume incoming data velocity.RDBMS handles moderate incoming data velocity.<p/>\n",
    "<p>7.\tIn RDBMS there is limited data source means data come from many locations.In Cassandra there are various data source means data come from one/few location.<p/>\n",
    "<p>8.\tIt supports simple transactions.It supports complex and nested transactions.<p/>\n",
    "<p>9.\tIn Cassandra row represents a unit of replication.\tIn RDBMS row represents a single record.<p/>\n",
    "<p>10.\tIn Cassandra column represents a unit of storage.\tIn RDBMS column represents an attribute.<p/>\n",
    "<p>11.\tIn Cassandra, relationships are represented using collections.\tIn RDBMS relationships are represented using keys and join etc.<p/>"
   ]
  },
  {
   "cell_type": "markdown",
   "id": "e89cdb1e",
   "metadata": {},
   "source": [
    "## 2. What exactly is CQLSH?"
   ]
  },
  {
   "cell_type": "markdown",
   "id": "3ba36eec",
   "metadata": {},
   "source": [
    "<p>cqlsh is a command-line interface for interacting with Cassandra using CQL (the Cassandra Query Language). It is shipped with every Cassandra package, and can be found in the bin/ directory alongside the cassandra executable.</p>\n",
    "<p>Cassandra Query Language Shell (CQLSH) is basically a communication medium between Cassandra and the user. CQLSH is a platform that allows the user to launch the Cassandra query language (CQL).</p>\n",
    "\n",
    "<p>The user can perform many operations using cqlsh. Some of them include: defining a schema, inserting and altering data, executing a query etc.</p>\n",
    "\n",
    "<p>It basically is a coding platform for Cassandra. Hence, a user can program Cassandra to work according to his requirement.</p>"
   ]
  },
  {
   "cell_type": "markdown",
   "id": "3f25c42c",
   "metadata": {},
   "source": [
    "## 3. Explain the Cassandra cluster idea."
   ]
  },
  {
   "cell_type": "markdown",
   "id": "cd8b8700",
   "metadata": {},
   "source": [
    "<p>Cassandra cluster is a collection of nodes, or Cassandra instances, visualized as a ring. Cassandra clusters can be defined as “rack aware” or “datacenter aware” so that data replicas could be distributed in a way that could even survive physical outages of underlying infrastructure.</p>\n",
    "\n",
    "<p>Given that Apache Cassandra features were architected with horizontal scalability in mind, Cassandra can scale to a theoretically unlimited number of nodes in a cluster, and Cassandra clusters can be geographically dispersed, with data exchanged between clusters using multi-datacenter replication.</p>\n",
    "\n",
    "<p>In Cassandra a node is either a whole physical server, or an allocated portion of a physical server in a virtualized or containerized environment. Each node will have requisite processing power (CPUs), memory (RAM), and storage (usually, in current servers, in the form of solid-state drives, known as SSDs).</p>\n",
    "\n",
    "<p>These nodes are organized into clusters. Cassandra clusters can be in physical proximity (such as in the same datacenter), or can be distributed over great geographical distances. To organize clusters into datacenters and then also across different racks (to ensure high availability), Cassandra uses a snitch monitor.</p>\n",
    "\n",
    "<p>Cassandra uses a mechanism called multi-datacenter replication to ensure data is transferred and eventually synchronized between its clusters. Note that two Cassandra clusters could be installed side-by-side in the same datacenter yet employ this mechanism to transfer data between the clusters.</p>"
   ]
  },
  {
   "cell_type": "markdown",
   "id": "08260057",
   "metadata": {},
   "source": [
    "## 4. Give an example to demonstrate the class notion."
   ]
  },
  {
   "cell_type": "markdown",
   "id": "a65bde90",
   "metadata": {},
   "source": [
    "<p>A class is a collection of objects. A class contains the blueprints or the prototype from which the objects are being created. It is a logical entity that contains some attributes and methods.</p> \n",
    "\n",
    "<p>Consider an example, let’s say we wanted to track the number of dogs that may have different attributes like breed, age. If a list is used, the first element could be the dog’s breed while the second element could represent its age. Let’s suppose there are 100 different dogs, then how would you know which element is supposed to be which? What if you wanted to add other properties to these dogs? This lacks organization and it’s the exact need for classes.</p>\n",
    "\n",
    "<p>Defining a class :</p>"
   ]
  },
  {
   "cell_type": "code",
   "execution_count": 14,
   "id": "0ec6d6ee",
   "metadata": {},
   "outputs": [
    {
     "name": "stdout",
     "output_type": "stream",
     "text": [
      "Dollar\n",
      "I'm a Dollar\n",
      "I'm a German Shepherd\n",
      "Dyno\n",
      "I'm a Dyno\n",
      "I'm a American Bulldog\n"
     ]
    }
   ],
   "source": [
    "class Dog:\n",
    " \n",
    "    # A simple class\n",
    "    # attribute\n",
    "    def __init__(self, name,breed):\n",
    "        self.name = name\n",
    "        self.breed = breed\n",
    " \n",
    "    # A sample method\n",
    "    def fun(self):\n",
    "        print(\"I'm a\", self.breed)\n",
    "        print(\"I'm a\", self.name)\n",
    " \n",
    " \n",
    "# Object instantiation\n",
    "d = Dog(\"German Shepherd\",\"Dollar\")\n",
    "d1= Dog(\"American Bulldog\",\"Dyno\")\n",
    " \n",
    "# Accessing class attributes and method through objects\n",
    "print(d.breed)\n",
    "d.fun()\n",
    "print(d1.breed)\n",
    "d1.fun()"
   ]
  },
  {
   "cell_type": "markdown",
   "id": "7a5b400a",
   "metadata": {},
   "source": [
    "## 5. Use an example to explain the object."
   ]
  },
  {
   "cell_type": "markdown",
   "id": "28a33cb2",
   "metadata": {},
   "source": [
    "<p>The object is an entity that has a state and behavior associated with it. It may be any real-world object like a mouse, keyboard, chair, table, pen, etc. Integers, strings, floating-point numbers, even arrays, and dictionaries, are all objects. More specifically, any single integer or any single string is an object. The number 12 is an object, the string “Hello, world” is an object, a list is an object that can hold other objects, and so on.</p>\n",
    "\n",
    "<p>An object consists of :</p>\n",
    "\n",
    "<p>State: It is represented by the attributes of an object. It also reflects the properties of an object.</p>\n",
    "<p>Identity: It gives a unique name to an object and enables one object to interact with other objects.\n",
    "To understand the state, behavior, and identity let us take the example of the class dog (explained above).</p> \n",
    "\n",
    "The identity can be considered as the name of the dog.\n",
    "State or Attributes can be considered as the breed of the dog."
   ]
  }
 ],
 "metadata": {
  "kernelspec": {
   "display_name": "Python 3 (ipykernel)",
   "language": "python",
   "name": "python3"
  },
  "language_info": {
   "codemirror_mode": {
    "name": "ipython",
    "version": 3
   },
   "file_extension": ".py",
   "mimetype": "text/x-python",
   "name": "python",
   "nbconvert_exporter": "python",
   "pygments_lexer": "ipython3",
   "version": "3.9.12"
  }
 },
 "nbformat": 4,
 "nbformat_minor": 5
}
