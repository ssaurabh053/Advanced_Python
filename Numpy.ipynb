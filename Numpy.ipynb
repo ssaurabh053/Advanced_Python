{
 "cells": [
  {
   "cell_type": "markdown",
   "id": "639d51d6",
   "metadata": {},
   "source": [
    "## 1. What makes NumPy.shape() different from NumPy.size()?"
   ]
  },
  {
   "cell_type": "markdown",
   "id": "6132ac6b",
   "metadata": {},
   "source": [
    "<p>Numpy.shape() returns the size of rows and columns of n dimensiona array while numpy.size returns number of elements in an array.</p>\n",
    "</p>Numpy.shape() returns data in tuple format while numpy.size() returns int data type.</p>"
   ]
  },
  {
   "cell_type": "markdown",
   "id": "a5bcf410",
   "metadata": {},
   "source": [
    "## 2. In NumPy, describe the idea of broadcasting."
   ]
  },
  {
   "cell_type": "markdown",
   "id": "c5736e04",
   "metadata": {},
   "source": [
    "<p>The term broadcasting describes how NumPy treats arrays with different shapes during arithmetic operations.</p>\n",
    "\n",
    "<p>Generally arithemetic operations are performed on pairs of arrays on element by element basis but broadcasting provides us relaxtion from these constraint.Suppose if we want to add a scalar value to an array then this broadcasting method will strectch this value to match the required shape and size of that array and then it performs the arithmetic opearation.</p>"
   ]
  },
  {
   "cell_type": "markdown",
   "id": "47f3a59f",
   "metadata": {},
   "source": [
    "## 3. What makes Numpy better than other libraries for numerical computation?"
   ]
  },
  {
   "cell_type": "markdown",
   "id": "599ea3fe",
   "metadata": {},
   "source": [
    "<p>NumPy can be used to perform a wide variety of mathematical operations on arrays.</p>\n",
    "<p>It adds powerful data structures to Python that guarantee efficient calculations with arrays and matrices and it supplies an enormous library of high-level mathematical functions that operate on these arrays and matrices.</p>\n",
    "<p>NumPy uses much less memory to store data and it provides a mechanism of specifying the data types. This allows the code to be optimized even further.</p>"
   ]
  },
  {
   "cell_type": "markdown",
   "id": "4cd099f7",
   "metadata": {},
   "source": [
    "## 4. How does NumPy deal with files?"
   ]
  },
  {
   "cell_type": "markdown",
   "id": "8c7c2e2f",
   "metadata": {},
   "source": [
    "<p>NumPy introduces a simple file format for ndarray objects. This .npy file stores data, shape, dtype and other information required to reconstruct the ndarray in a disk file such that the array is correctly retrieved even if the file is on another machine with different architecture.</p>\n",
    "<p>The numpy.save() file stores the input array in a disk file with npy extension.</p>\n",
    "<p>To reconstruct array from outfile.npy, use load() function.</p>"
   ]
  },
  {
   "cell_type": "markdown",
   "id": "745ec436",
   "metadata": {},
   "source": [
    "## 5. Mention the importance of NumPy.empty()."
   ]
  },
  {
   "cell_type": "markdown",
   "id": "7a7c476e",
   "metadata": {},
   "source": [
    "<p>numpy.empty() function is used to create an array without initializing the entries of given shape and type.</p>\n",
    "<p>It is quite faster that numpy.zeros() as it does not set the array values to zero.</p>"
   ]
  }
 ],
 "metadata": {
  "kernelspec": {
   "display_name": "Python 3 (ipykernel)",
   "language": "python",
   "name": "python3"
  },
  "language_info": {
   "codemirror_mode": {
    "name": "ipython",
    "version": 3
   },
   "file_extension": ".py",
   "mimetype": "text/x-python",
   "name": "python",
   "nbconvert_exporter": "python",
   "pygments_lexer": "ipython3",
   "version": "3.9.12"
  }
 },
 "nbformat": 4,
 "nbformat_minor": 5
}
